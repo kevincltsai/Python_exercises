{
 "cells": [
  {
   "cell_type": "code",
   "execution_count": 4,
   "metadata": {},
   "outputs": [
    {
     "name": "stdout",
     "output_type": "stream",
     "text": [
      "Collecting finlab==0.4.4\n",
      "  Downloading finlab-0.4.4-cp39-cp39-macosx_10_9_universal2.whl (815 kB)\n",
      "\u001b[K     |████████████████████████████████| 815 kB 1.0 MB/s eta 0:00:01\n",
      "\u001b[?25hRequirement already satisfied: lz4 in /Users/kevintsai/opt/anaconda3/envs/finlab/lib/python3.9/site-packages (from finlab==0.4.4) (4.3.2)\n",
      "Requirement already satisfied: requests in /Users/kevintsai/opt/anaconda3/envs/finlab/lib/python3.9/site-packages (from finlab==0.4.4) (2.28.2)\n",
      "Requirement already satisfied: Cython in /Users/kevintsai/opt/anaconda3/envs/finlab/lib/python3.9/site-packages (from finlab==0.4.4) (0.29.33)\n",
      "Requirement already satisfied: pandas>=1.5.3 in /Users/kevintsai/opt/anaconda3/envs/finlab/lib/python3.9/site-packages (from finlab==0.4.4) (2.0.2)\n",
      "Requirement already satisfied: jinja2 in /Users/kevintsai/opt/anaconda3/envs/finlab/lib/python3.9/site-packages (from finlab==0.4.4) (2.11.3)\n",
      "Requirement already satisfied: tqdm in /Users/kevintsai/opt/anaconda3/envs/finlab/lib/python3.9/site-packages (from finlab==0.4.4) (4.65.0)\n",
      "Requirement already satisfied: numpy>=1.21.6 in /Users/kevintsai/opt/anaconda3/envs/finlab/lib/python3.9/site-packages (from finlab==0.4.4) (1.24.2)\n",
      "Requirement already satisfied: pyarrow>=2.0.0 in /Users/kevintsai/opt/anaconda3/envs/finlab/lib/python3.9/site-packages (from finlab==0.4.4) (11.0.0)\n",
      "Requirement already satisfied: python-dateutil>=2.8.2 in /Users/kevintsai/opt/anaconda3/envs/finlab/lib/python3.9/site-packages (from pandas>=1.5.3->finlab==0.4.4) (2.8.2)\n",
      "Requirement already satisfied: tzdata>=2022.1 in /Users/kevintsai/opt/anaconda3/envs/finlab/lib/python3.9/site-packages (from pandas>=1.5.3->finlab==0.4.4) (2023.3)\n",
      "Requirement already satisfied: pytz>=2020.1 in /Users/kevintsai/opt/anaconda3/envs/finlab/lib/python3.9/site-packages (from pandas>=1.5.3->finlab==0.4.4) (2021.1)\n",
      "Requirement already satisfied: six>=1.5 in /Users/kevintsai/opt/anaconda3/envs/finlab/lib/python3.9/site-packages (from python-dateutil>=2.8.2->pandas>=1.5.3->finlab==0.4.4) (1.15.0)\n",
      "Requirement already satisfied: MarkupSafe>=0.23 in /Users/kevintsai/opt/anaconda3/envs/finlab/lib/python3.9/site-packages (from jinja2->finlab==0.4.4) (1.1.1)\n",
      "Requirement already satisfied: urllib3<1.27,>=1.21.1 in /Users/kevintsai/opt/anaconda3/envs/finlab/lib/python3.9/site-packages (from requests->finlab==0.4.4) (1.26.15)\n",
      "Requirement already satisfied: certifi>=2017.4.17 in /Users/kevintsai/opt/anaconda3/envs/finlab/lib/python3.9/site-packages (from requests->finlab==0.4.4) (2020.12.5)\n",
      "Requirement already satisfied: idna<4,>=2.5 in /Users/kevintsai/opt/anaconda3/envs/finlab/lib/python3.9/site-packages (from requests->finlab==0.4.4) (3.4)\n",
      "Requirement already satisfied: charset-normalizer<4,>=2 in /Users/kevintsai/opt/anaconda3/envs/finlab/lib/python3.9/site-packages (from requests->finlab==0.4.4) (3.1.0)\n",
      "Installing collected packages: finlab\n",
      "  Attempting uninstall: finlab\n",
      "    Found existing installation: finlab 0.3.19\n",
      "    Uninstalling finlab-0.3.19:\n",
      "      Successfully uninstalled finlab-0.3.19\n",
      "Successfully installed finlab-0.4.4\n"
     ]
    }
   ],
   "source": [
    "!pip install finlab==0.4.4"
   ]
  },
  {
   "cell_type": "code",
   "execution_count": 1,
   "metadata": {},
   "outputs": [],
   "source": [
    "from IPython import display"
   ]
  },
  {
   "cell_type": "code",
   "execution_count": 2,
   "metadata": {},
   "outputs": [
    {
     "name": "stdout",
     "output_type": "stream",
     "text": [
      "從 https://ai.finlab.tw/api_token 複製驗證碼，並貼於此處:\n",
      "\n",
      "輸入成功!\n",
      "之後可以使用以下方法自動登入\n",
      "import finlab\n",
      "finlab.login(\"YOUR API TOKEN\")\n"
     ]
    },
    {
     "name": "stderr",
     "output_type": "stream",
     "text": [
      "WARNING:finlab.data:price:收盤價 -- Daily usage: 448.4 / 5000 MB\n",
      "WARNING:finlab.data:price:成交股數 -- Daily usage: 479.9 / 5000 MB\n",
      "WARNING:finlab.data:monthly_revenue:當月營收 -- Daily usage: 483.2 / 5000 MB\n",
      "WARNING:finlab.data:fundamental_features:營業利益率 -- Daily usage: 484.8 / 5000 MB\n",
      "WARNING:finlab.data:price_earning_ratio:殖利率(%) -- Daily usage: 496.9 / 5000 MB\n",
      "WARNING:finlab.data:internal_equity_changes:董監持有股數占比 -- Daily usage: 498.8 / 5000 MB\n",
      "WARNING:finlab.data:monthly_revenue:去年同月增減(%) -- Daily usage: 502.0 / 5000 MB\n",
      "WARNING:finlab.data:financial_statements_upload_detail:upload_date -- Daily usage: 503.8 / 5000 MB\n",
      "WARNING:finlab.data:company_basic_info -- Daily usage: 504.7 / 5000 MB\n"
     ]
    }
   ],
   "source": [
    "from finlab import data\n",
    "from finlab import backtest\n",
    "\n",
    "close = data.get('price:收盤價')\n",
    "vol = data.get('price:成交股數')\n",
    "sma20 = close.average(20)\n",
    "sma60 = close.average(60)\n",
    "rev = data.get('monthly_revenue:當月營收')\n",
    "ope_earn = data.get('fundamental_features:營業利益率')\n",
    "yield_ratio = data.get('price_earning_ratio:殖利率(%)')\n",
    "boss_hold = data.get(\"internal_equity_changes:董監持有股數占比\")\n",
    "去年同月增減 = data.get(\"monthly_revenue:去年同月增減(%)\")\n",
    "\n",
    "cond1 = yield_ratio >= 6\n",
    "cond2 = (close > sma20) & (close > sma60)\n",
    "cond3 = rev.average(3) > rev.average(12)\n",
    "cond4 = ope_earn >= 3\n",
    "cond5 = boss_hold >= 10\n",
    "cond6 = (vol.average(5) >= 50*1000) & (vol.average(5) <= 10000*1000)\n",
    "cond_all = cond1 & cond2 & cond3 & cond4 & cond5 & cond6\n",
    "cond_all = cond_all*去年同月增減\n",
    "cond_all = cond_all[cond_all>0].is_largest(10)"
   ]
  },
  {
   "cell_type": "code",
   "execution_count": 5,
   "metadata": {},
   "outputs": [
    {
     "data": {
      "text/plain": [
       "finlab.core.report.Report"
      ]
     },
     "execution_count": 5,
     "metadata": {},
     "output_type": "execute_result"
    }
   ],
   "source": [
    "type(rr)"
   ]
  },
  {
   "cell_type": "code",
   "execution_count": 4,
   "metadata": {},
   "outputs": [
    {
     "name": "stderr",
     "output_type": "stream",
     "text": [
      "WARNING:finlab.data:security_categories -- Daily usage: 504.8 / 5000 MB\n",
      "WARNING:finlab.data:etl:adj_close -- Daily usage: 534.7 / 5000 MB\n",
      "WARNING:finlab.data:benchmark_return:發行量加權股價報酬指數 -- Daily usage: 534.8 / 5000 MB\n"
     ]
    },
    {
     "data": {
      "text/html": [
       "\n",
       "        <iframe\n",
       "            width=\"100%\"\n",
       "            height=\"600\"\n",
       "            src=\"https://ai.finlab.tw/strategy/?uid=meDsiVKZZve5FthbWilo2dCzcdK2&sid=高殖利率烏龜\"\n",
       "            frameborder=\"0\"\n",
       "            allowfullscreen\n",
       "            \n",
       "        ></iframe>\n",
       "        "
      ],
      "text/plain": [
       "<IPython.lib.display.IFrame at 0x130695f10>"
      ]
     },
     "metadata": {},
     "output_type": "display_data"
    }
   ],
   "source": [
    "\n",
    "rr = backtest.sim(cond_all, resample='M',fee_ratio=1.425/1000/3, stop_loss=0.06, take_profit=0.5, position_limit=0.125,name='高殖利率烏龜', live_performance_start='2022-05-01')"
   ]
  },
  {
   "cell_type": "code",
   "execution_count": null,
   "metadata": {},
   "outputs": [],
   "source": []
  }
 ],
 "metadata": {
  "kernelspec": {
   "display_name": "finlab",
   "language": "python",
   "name": "myenv"
  },
  "language_info": {
   "codemirror_mode": {
    "name": "ipython",
    "version": 3
   },
   "file_extension": ".py",
   "mimetype": "text/x-python",
   "name": "python",
   "nbconvert_exporter": "python",
   "pygments_lexer": "ipython3",
   "version": "3.9.2"
  },
  "orig_nbformat": 4
 },
 "nbformat": 4,
 "nbformat_minor": 2
}
