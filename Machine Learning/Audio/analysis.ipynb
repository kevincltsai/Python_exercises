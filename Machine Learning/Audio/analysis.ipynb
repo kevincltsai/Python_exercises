{
 "cells": [
  {
   "cell_type": "code",
   "execution_count": 2,
   "metadata": {},
   "outputs": [],
   "source": [
    "import pandas as pd\n",
    "import numpy as np\n",
    "\n",
    "# ploting\n",
    "import matplotlib.pylab as plt\n",
    "import seaborn as sns\n",
    "\n",
    "# list files in directory\n",
    "from glob import glob\n",
    "\n",
    "# working with audio files\n",
    "import librosa\n",
    "import librosa.display\n",
    "\n",
    "# for playing audio in jnb\n",
    "import IPython.display as ipd\n",
    "\n",
    "from itertools import cycle\n",
    "\n",
    "sns.set_theme(style='white', palette=None)\n",
    "color_pal = plt.rcParams['axes.prop_cycle'].by_key()['color']\n",
    "color_cycle = cycle(plt.rcParams['axes.prop_cycle'].by_key()['color'])"
   ]
  },
  {
   "attachments": {},
   "cell_type": "markdown",
   "metadata": {},
   "source": [
    "# Terms to know for Audio in Digital Form:\n",
    "\n",
    "## Frequency (Hz)\n",
    "- Frequency describes the differences of wave lengths.\n",
    "- We interperate frequency has high and low pitches.\n",
    "\n",
    "<img src=\"https://uploads-cdn.omnicalculator.com/images/britannica-wave-frequency.jpg\" width=\"400\"/>\n",
    "\n",
    "## Intensity (db / power)\n",
    "- Intensity describes the amplitude (height) of the wave.\n",
    "\n",
    "<img src=\"https://ars.els-cdn.com/content/image/3-s2.0-B9780124722804500162-f13-15-9780124722804.gif\" width=\"400\"/>\n",
    "\n",
    "## Sample Rate\n",
    "- Sample rate is specific to how the computer reads in the audio file.\n",
    "- Think of it as the \"resolution\" of the audio.\n",
    "\n",
    "<img src=\"https://www.headphonesty.com/wp-content/uploads/2019/07/Sample-Rate-Bit-Depth-and-Bit-Rate.jpeg\" width=\"400\"/>\n"
   ]
  },
  {
   "cell_type": "code",
   "execution_count": null,
   "metadata": {},
   "outputs": [],
   "source": []
  }
 ],
 "metadata": {
  "kernelspec": {
   "display_name": "finlab",
   "language": "python",
   "name": "myenv"
  },
  "language_info": {
   "codemirror_mode": {
    "name": "ipython",
    "version": 3
   },
   "file_extension": ".py",
   "mimetype": "text/x-python",
   "name": "python",
   "nbconvert_exporter": "python",
   "pygments_lexer": "ipython3",
   "version": "3.9.2"
  },
  "orig_nbformat": 4
 },
 "nbformat": 4,
 "nbformat_minor": 2
}
