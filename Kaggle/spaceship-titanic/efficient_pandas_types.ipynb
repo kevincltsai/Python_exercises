{
 "cells": [
  {
   "attachments": {},
   "cell_type": "markdown",
   "metadata": {},
   "source": [
    "https://www.youtube.com/watch?v=u4_c2LDi4b8&t=574s&ab_channel=RobMulla"
   ]
  },
  {
   "cell_type": "code",
   "execution_count": 1,
   "metadata": {},
   "outputs": [],
   "source": [
    "import pandas as pd\n",
    "import numpy as np"
   ]
  },
  {
   "cell_type": "code",
   "execution_count": 13,
   "metadata": {},
   "outputs": [],
   "source": [
    "def get_dataset(size : int) -> pd.DataFrame:\n",
    "    df = pd.DataFrame()\n",
    "\n",
    "    df['position'] =np.random.choice(['left', 'middle', 'right'],size)\n",
    "    df['age'] = np.random.randint(1,50, size)\n",
    "    df['team'] = np.random.choice(['red', 'blue', 'yellow', 'green'], size)\n",
    "    df['win'] = np.random.choice(['yes', 'no'], size)\n",
    "    df['prob'] = np.random.uniform(0,1,size)\n",
    "    return df"
   ]
  },
  {
   "cell_type": "code",
   "execution_count": 14,
   "metadata": {},
   "outputs": [
    {
     "name": "stdout",
     "output_type": "stream",
     "text": [
      "<class 'pandas.core.frame.DataFrame'>\n",
      "RangeIndex: 1000000 entries, 0 to 999999\n",
      "Data columns (total 5 columns):\n",
      " #   Column    Non-Null Count    Dtype  \n",
      "---  ------    --------------    -----  \n",
      " 0   position  1000000 non-null  object \n",
      " 1   age       1000000 non-null  int64  \n",
      " 2   team      1000000 non-null  object \n",
      " 3   win       1000000 non-null  object \n",
      " 4   prob      1000000 non-null  float64\n",
      "dtypes: float64(1), int64(1), object(3)\n",
      "memory usage: 38.1+ MB\n"
     ]
    }
   ],
   "source": [
    "df = get_dataset(1_000_000)\n",
    "df.info()"
   ]
  },
  {
   "cell_type": "code",
   "execution_count": 15,
   "metadata": {},
   "outputs": [
    {
     "data": {
      "text/html": [
       "<div>\n",
       "<style scoped>\n",
       "    .dataframe tbody tr th:only-of-type {\n",
       "        vertical-align: middle;\n",
       "    }\n",
       "\n",
       "    .dataframe tbody tr th {\n",
       "        vertical-align: top;\n",
       "    }\n",
       "\n",
       "    .dataframe thead th {\n",
       "        text-align: right;\n",
       "    }\n",
       "</style>\n",
       "<table border=\"1\" class=\"dataframe\">\n",
       "  <thead>\n",
       "    <tr style=\"text-align: right;\">\n",
       "      <th></th>\n",
       "      <th>position</th>\n",
       "      <th>age</th>\n",
       "      <th>team</th>\n",
       "      <th>win</th>\n",
       "      <th>prob</th>\n",
       "    </tr>\n",
       "  </thead>\n",
       "  <tbody>\n",
       "    <tr>\n",
       "      <th>0</th>\n",
       "      <td>left</td>\n",
       "      <td>2</td>\n",
       "      <td>yellow</td>\n",
       "      <td>no</td>\n",
       "      <td>0.689629</td>\n",
       "    </tr>\n",
       "    <tr>\n",
       "      <th>1</th>\n",
       "      <td>right</td>\n",
       "      <td>13</td>\n",
       "      <td>blue</td>\n",
       "      <td>yes</td>\n",
       "      <td>0.391238</td>\n",
       "    </tr>\n",
       "    <tr>\n",
       "      <th>2</th>\n",
       "      <td>left</td>\n",
       "      <td>26</td>\n",
       "      <td>red</td>\n",
       "      <td>yes</td>\n",
       "      <td>0.183516</td>\n",
       "    </tr>\n",
       "    <tr>\n",
       "      <th>3</th>\n",
       "      <td>right</td>\n",
       "      <td>22</td>\n",
       "      <td>green</td>\n",
       "      <td>no</td>\n",
       "      <td>0.987001</td>\n",
       "    </tr>\n",
       "    <tr>\n",
       "      <th>4</th>\n",
       "      <td>middle</td>\n",
       "      <td>39</td>\n",
       "      <td>yellow</td>\n",
       "      <td>yes</td>\n",
       "      <td>0.268311</td>\n",
       "    </tr>\n",
       "  </tbody>\n",
       "</table>\n",
       "</div>"
      ],
      "text/plain": [
       "  position  age    team  win      prob\n",
       "0     left    2  yellow   no  0.689629\n",
       "1    right   13    blue  yes  0.391238\n",
       "2     left   26     red  yes  0.183516\n",
       "3    right   22   green   no  0.987001\n",
       "4   middle   39  yellow  yes  0.268311"
      ]
     },
     "execution_count": 15,
     "metadata": {},
     "output_type": "execute_result"
    }
   ],
   "source": [
    "df.head(5)"
   ]
  },
  {
   "cell_type": "code",
   "execution_count": 19,
   "metadata": {},
   "outputs": [
    {
     "name": "stdout",
     "output_type": "stream",
     "text": [
      "366 ms ± 33.2 ms per loop (mean ± std. dev. of 7 runs, 1 loop each)\n",
      "417 ms ± 20.7 ms per loop (mean ± std. dev. of 7 runs, 1 loop each)\n",
      "452 ms ± 14.1 ms per loop (mean ± std. dev. of 7 runs, 1 loop each)\n"
     ]
    }
   ],
   "source": [
    "%timeit df['age_rank'] = df.groupby(['team','position'])['age'].rank()\n",
    "%timeit df['prob_rank'] = df.groupby(['team', 'position'])['prob'].rank()\n",
    "%timeit df['win_prob_rank'] = df.groupby(['team', 'position','win'])['prob'].rank()\n"
   ]
  },
  {
   "cell_type": "code",
   "execution_count": 20,
   "metadata": {},
   "outputs": [
    {
     "data": {
      "text/html": [
       "<div>\n",
       "<style scoped>\n",
       "    .dataframe tbody tr th:only-of-type {\n",
       "        vertical-align: middle;\n",
       "    }\n",
       "\n",
       "    .dataframe tbody tr th {\n",
       "        vertical-align: top;\n",
       "    }\n",
       "\n",
       "    .dataframe thead th {\n",
       "        text-align: right;\n",
       "    }\n",
       "</style>\n",
       "<table border=\"1\" class=\"dataframe\">\n",
       "  <thead>\n",
       "    <tr style=\"text-align: right;\">\n",
       "      <th></th>\n",
       "      <th>position</th>\n",
       "      <th>age</th>\n",
       "      <th>team</th>\n",
       "      <th>win</th>\n",
       "      <th>prob</th>\n",
       "      <th>age_rank</th>\n",
       "      <th>prob_rank</th>\n",
       "      <th>win_prob_rank</th>\n",
       "    </tr>\n",
       "  </thead>\n",
       "  <tbody>\n",
       "    <tr>\n",
       "      <th>0</th>\n",
       "      <td>left</td>\n",
       "      <td>2</td>\n",
       "      <td>yellow</td>\n",
       "      <td>no</td>\n",
       "      <td>0.689629</td>\n",
       "      <td>2551.0</td>\n",
       "      <td>57295.0</td>\n",
       "      <td>28848.0</td>\n",
       "    </tr>\n",
       "    <tr>\n",
       "      <th>1</th>\n",
       "      <td>right</td>\n",
       "      <td>13</td>\n",
       "      <td>blue</td>\n",
       "      <td>yes</td>\n",
       "      <td>0.391238</td>\n",
       "      <td>21410.0</td>\n",
       "      <td>32691.0</td>\n",
       "      <td>16327.0</td>\n",
       "    </tr>\n",
       "    <tr>\n",
       "      <th>2</th>\n",
       "      <td>left</td>\n",
       "      <td>26</td>\n",
       "      <td>red</td>\n",
       "      <td>yes</td>\n",
       "      <td>0.183516</td>\n",
       "      <td>43392.5</td>\n",
       "      <td>15244.0</td>\n",
       "      <td>7519.0</td>\n",
       "    </tr>\n",
       "    <tr>\n",
       "      <th>3</th>\n",
       "      <td>right</td>\n",
       "      <td>22</td>\n",
       "      <td>green</td>\n",
       "      <td>no</td>\n",
       "      <td>0.987001</td>\n",
       "      <td>36319.5</td>\n",
       "      <td>81891.0</td>\n",
       "      <td>41244.0</td>\n",
       "    </tr>\n",
       "    <tr>\n",
       "      <th>4</th>\n",
       "      <td>middle</td>\n",
       "      <td>39</td>\n",
       "      <td>yellow</td>\n",
       "      <td>yes</td>\n",
       "      <td>0.268311</td>\n",
       "      <td>65674.0</td>\n",
       "      <td>22417.0</td>\n",
       "      <td>11361.0</td>\n",
       "    </tr>\n",
       "  </tbody>\n",
       "</table>\n",
       "</div>"
      ],
      "text/plain": [
       "  position  age    team  win      prob  age_rank  prob_rank  win_prob_rank\n",
       "0     left    2  yellow   no  0.689629    2551.0    57295.0        28848.0\n",
       "1    right   13    blue  yes  0.391238   21410.0    32691.0        16327.0\n",
       "2     left   26     red  yes  0.183516   43392.5    15244.0         7519.0\n",
       "3    right   22   green   no  0.987001   36319.5    81891.0        41244.0\n",
       "4   middle   39  yellow  yes  0.268311   65674.0    22417.0        11361.0"
      ]
     },
     "execution_count": 20,
     "metadata": {},
     "output_type": "execute_result"
    }
   ],
   "source": [
    "df.head(5)"
   ]
  },
  {
   "cell_type": "code",
   "execution_count": 23,
   "metadata": {},
   "outputs": [
    {
     "name": "stdout",
     "output_type": "stream",
     "text": [
      "<class 'pandas.core.frame.DataFrame'>\n",
      "RangeIndex: 1000000 entries, 0 to 999999\n",
      "Data columns (total 5 columns):\n",
      " #   Column    Non-Null Count    Dtype   \n",
      "---  ------    --------------    -----   \n",
      " 0   position  1000000 non-null  category\n",
      " 1   age       1000000 non-null  int64   \n",
      " 2   team      1000000 non-null  category\n",
      " 3   win       1000000 non-null  object  \n",
      " 4   prob      1000000 non-null  float64 \n",
      "dtypes: category(2), float64(1), int64(1), object(1)\n",
      "memory usage: 24.8+ MB\n"
     ]
    }
   ],
   "source": [
    "df = get_dataset(1_000_000)\n",
    "df['position'] = df['position'].astype('category')\n",
    "df['team'] = df['team'].astype('category')\n",
    "df.info()\n",
    "\n",
    "# from 38M -> 25M"
   ]
  },
  {
   "attachments": {},
   "cell_type": "markdown",
   "metadata": {},
   "source": [
    "# Int Downcasting Value Range\n",
    "- int8 {-128,127}\n",
    "- int16 {-32768, 32767}\n",
    "- int64 {-9223372036854775808, 9223372036854775808}"
   ]
  },
  {
   "cell_type": "code",
   "execution_count": 24,
   "metadata": {},
   "outputs": [
    {
     "name": "stdout",
     "output_type": "stream",
     "text": [
      "1\n",
      "49\n"
     ]
    }
   ],
   "source": [
    "print(df['age'].min())\n",
    "print(df['age'].max())"
   ]
  },
  {
   "cell_type": "code",
   "execution_count": 25,
   "metadata": {},
   "outputs": [
    {
     "name": "stdout",
     "output_type": "stream",
     "text": [
      "<class 'pandas.core.frame.DataFrame'>\n",
      "RangeIndex: 1000000 entries, 0 to 999999\n",
      "Data columns (total 5 columns):\n",
      " #   Column    Non-Null Count    Dtype   \n",
      "---  ------    --------------    -----   \n",
      " 0   position  1000000 non-null  category\n",
      " 1   age       1000000 non-null  int8    \n",
      " 2   team      1000000 non-null  category\n",
      " 3   win       1000000 non-null  object  \n",
      " 4   prob      1000000 non-null  float64 \n",
      "dtypes: category(2), float64(1), int8(1), object(1)\n",
      "memory usage: 18.1+ MB\n"
     ]
    }
   ],
   "source": [
    "df['age'] = df['age'].astype('int8')\n",
    "df.info()"
   ]
  },
  {
   "cell_type": "code",
   "execution_count": 26,
   "metadata": {},
   "outputs": [
    {
     "name": "stdout",
     "output_type": "stream",
     "text": [
      "<class 'pandas.core.frame.DataFrame'>\n",
      "RangeIndex: 1000000 entries, 0 to 999999\n",
      "Data columns (total 5 columns):\n",
      " #   Column    Non-Null Count    Dtype   \n",
      "---  ------    --------------    -----   \n",
      " 0   position  1000000 non-null  category\n",
      " 1   age       1000000 non-null  int8    \n",
      " 2   team      1000000 non-null  category\n",
      " 3   win       1000000 non-null  object  \n",
      " 4   prob      1000000 non-null  float32 \n",
      "dtypes: category(2), float32(1), int8(1), object(1)\n",
      "memory usage: 14.3+ MB\n"
     ]
    }
   ],
   "source": [
    "df['prob'] = df['prob'].astype('float32')\n",
    "df.info()"
   ]
  },
  {
   "cell_type": "code",
   "execution_count": 31,
   "metadata": {},
   "outputs": [
    {
     "name": "stdout",
     "output_type": "stream",
     "text": [
      "<class 'pandas.core.frame.DataFrame'>\n",
      "RangeIndex: 1000000 entries, 0 to 999999\n",
      "Data columns (total 5 columns):\n",
      " #   Column    Non-Null Count    Dtype   \n",
      "---  ------    --------------    -----   \n",
      " 0   position  1000000 non-null  category\n",
      " 1   age       1000000 non-null  int8    \n",
      " 2   team      1000000 non-null  category\n",
      " 3   win       0 non-null        object  \n",
      " 4   prob      1000000 non-null  float32 \n",
      "dtypes: category(2), float32(1), int8(1), object(1)\n",
      "memory usage: 14.3+ MB\n"
     ]
    }
   ],
   "source": [
    "df['win'] = df['win'].map({'yes': True, 'no': False})\n",
    "\n",
    "df.info()"
   ]
  },
  {
   "cell_type": "code",
   "execution_count": 35,
   "metadata": {},
   "outputs": [],
   "source": [
    "def set_dtypes(df):\n",
    "    df['win'] = df['win'].map({'yes': True, 'no': False})\n",
    "    df['prob'] = df['prob'].astype('float32')\n",
    "    df['position'] = df['position'].astype('category')\n",
    "    df['team'] = df['team'].astype('category')\n",
    "    df['age'] = df['age'].astype('int8')\n",
    "    return df"
   ]
  },
  {
   "cell_type": "code",
   "execution_count": 33,
   "metadata": {},
   "outputs": [
    {
     "name": "stdout",
     "output_type": "stream",
     "text": [
      "429 ms ± 78.1 ms per loop (mean ± std. dev. of 7 runs, 1 loop each)\n",
      "445 ms ± 18.7 ms per loop (mean ± std. dev. of 7 runs, 1 loop each)\n",
      "489 ms ± 32.6 ms per loop (mean ± std. dev. of 7 runs, 1 loop each)\n"
     ]
    }
   ],
   "source": [
    "df = get_dataset(1_000_000)\n",
    "%timeit df['age_rank'] = df.groupby(['team','position'])['age'].rank()\n",
    "%timeit df['prob_rank'] = df.groupby(['team', 'position'])['prob'].rank()\n",
    "%timeit df['win_prob_rank'] = df.groupby(['team', 'position','win'])['prob'].rank()\n"
   ]
  },
  {
   "cell_type": "code",
   "execution_count": 36,
   "metadata": {},
   "outputs": [
    {
     "name": "stdout",
     "output_type": "stream",
     "text": [
      "166 ms ± 5.41 ms per loop (mean ± std. dev. of 7 runs, 10 loops each)\n",
      "339 ms ± 5.98 ms per loop (mean ± std. dev. of 7 runs, 1 loop each)\n",
      "354 ms ± 2.23 ms per loop (mean ± std. dev. of 7 runs, 1 loop each)\n"
     ]
    }
   ],
   "source": [
    "df = get_dataset(1_000_000)\n",
    "df = set_dtypes(df)\n",
    "%timeit df['age_rank'] = df.groupby(['team','position'])['age'].rank()\n",
    "%timeit df['prob_rank'] = df.groupby(['team', 'position'])['prob'].rank()\n",
    "%timeit df['win_prob_rank'] = df.groupby(['team', 'position','win'])['prob'].rank()\n"
   ]
  },
  {
   "cell_type": "code",
   "execution_count": null,
   "metadata": {},
   "outputs": [],
   "source": []
  }
 ],
 "metadata": {
  "kernelspec": {
   "display_name": "base",
   "language": "python",
   "name": "python3"
  },
  "language_info": {
   "codemirror_mode": {
    "name": "ipython",
    "version": 3
   },
   "file_extension": ".py",
   "mimetype": "text/x-python",
   "name": "python",
   "nbconvert_exporter": "python",
   "pygments_lexer": "ipython3",
   "version": "3.10.8"
  },
  "orig_nbformat": 4
 },
 "nbformat": 4,
 "nbformat_minor": 2
}
