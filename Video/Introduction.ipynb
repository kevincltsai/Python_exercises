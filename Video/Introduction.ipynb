{
 "cells": [
  {
   "attachments": {},
   "cell_type": "markdown",
   "metadata": {},
   "source": [
    "Image size\n",
    "\n",
    "VGA = 640 * 480\n",
    "HD = 1280 * 720\n",
    "FHD = 1920 * 1080\n",
    "4K = 3840 * 2160\n",
    "\n",
    "Resolutoin\n",
    "Gray scale image = 2^8 = 256 bits\n",
    "RGB"
   ]
  },
  {
   "cell_type": "code",
   "execution_count": null,
   "metadata": {},
   "outputs": [],
   "source": []
  }
 ],
 "metadata": {
  "language_info": {
   "name": "python"
  },
  "orig_nbformat": 4
 },
 "nbformat": 4,
 "nbformat_minor": 2
}
