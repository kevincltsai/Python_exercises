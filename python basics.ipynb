{
 "cells": [
  {
   "attachments": {},
   "cell_type": "markdown",
   "metadata": {},
   "source": [
    "# Python virtual environment\n"
   ]
  },
  {
   "attachments": {},
   "cell_type": "markdown",
   "metadata": {},
   "source": [
    "* conda env list  \n",
    "#list out all the enviornment\n",
    "\n",
    "* conda create --name myenv python =3.5   \n",
    "#create env of specific version\n",
    "\n",
    "* sourece activate myenv  \n",
    "#activate environment\n",
    "\n",
    "* conda list\n",
    "\n",
    "* conda install\n",
    "#install package\n",
    "\n",
    "*conda remove --name myenv numpy \n",
    "#delete spefic package from spefici envionrment\n",
    "\n",
    "*conda env remove --name myenv \n",
    "\n",
    "*conda rename -n old_name new_name"
   ]
  },
  {
   "attachments": {},
   "cell_type": "markdown",
   "metadata": {},
   "source": [
    "print('hello')"
   ]
  },
  {
   "cell_type": "code",
   "execution_count": null,
   "metadata": {
    "vscode": {
     "languageId": "plaintext"
    }
   },
   "outputs": [],
   "source": []
  },
  {
   "attachments": {},
   "cell_type": "markdown",
   "metadata": {},
   "source": []
  }
 ],
 "metadata": {
  "language_info": {
   "name": "python"
  },
  "orig_nbformat": 4
 },
 "nbformat": 4,
 "nbformat_minor": 2
}
