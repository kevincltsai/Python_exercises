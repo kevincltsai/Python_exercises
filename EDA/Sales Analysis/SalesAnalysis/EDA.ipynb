{
 "cells": [
  {
   "cell_type": "code",
   "execution_count": 1,
   "metadata": {},
   "outputs": [],
   "source": [
    "import pandas as pd\n",
    "import os\n",
    "pd.set_option('display.max_rows', 500)"
   ]
  },
  {
   "cell_type": "code",
   "execution_count": 2,
   "metadata": {},
   "outputs": [
    {
     "name": "stdout",
     "output_type": "stream",
     "text": [
      "/Users/kevintsai/Library/CloudStorage/Dropbox/Study/Python/EDA/Pandas-Data-Science-Tasks/SalesAnalysis\n"
     ]
    }
   ],
   "source": [
    "#print current working directory\n",
    "\n",
    "print(os.getcwd())"
   ]
  },
  {
   "cell_type": "code",
   "execution_count": 3,
   "metadata": {},
   "outputs": [],
   "source": [
    "f_path = os.getcwd()"
   ]
  },
  {
   "cell_type": "code",
   "execution_count": 4,
   "metadata": {},
   "outputs": [],
   "source": [
    "f_list = []\n",
    "for filename in os.listdir(f_path +'/Sales_Data'):\n",
    "    if ('Sales' in filename) and ('csv' in filename):\n",
    "        f_list.append(filename)"
   ]
  },
  {
   "cell_type": "code",
   "execution_count": 20,
   "metadata": {},
   "outputs": [
    {
     "name": "stdout",
     "output_type": "stream",
     "text": [
      "(25117, 6)\n"
     ]
    }
   ],
   "source": [
    "df = pd.read_csv(f_path + '/Sales_Data/' + f_list[0])\n",
    "print(df.shape)\n",
    "for i in range(1,len(f_list)):\n",
    "    temp = pd.read_csv(f_path + '/Sales_Data/' + f_list[i])\n",
    "    df = pd.concat([df, temp])"
   ]
  },
  {
   "attachments": {},
   "cell_type": "markdown",
   "metadata": {},
   "source": [
    "# File Check"
   ]
  },
  {
   "cell_type": "code",
   "execution_count": 21,
   "metadata": {},
   "outputs": [
    {
     "data": {
      "text/plain": [
       "Order ID            545\n",
       "Product             545\n",
       "Quantity Ordered    545\n",
       "Price Each          545\n",
       "Order Date          545\n",
       "Purchase Address    545\n",
       "dtype: int64"
      ]
     },
     "execution_count": 21,
     "metadata": {},
     "output_type": "execute_result"
    }
   ],
   "source": [
    "df.isnull().sum()"
   ]
  },
  {
   "attachments": {},
   "cell_type": "markdown",
   "metadata": {},
   "source": [
    "## df first 5 rows"
   ]
  },
  {
   "cell_type": "code",
   "execution_count": 22,
   "metadata": {},
   "outputs": [
    {
     "data": {
      "text/html": [
       "<div>\n",
       "<style scoped>\n",
       "    .dataframe tbody tr th:only-of-type {\n",
       "        vertical-align: middle;\n",
       "    }\n",
       "\n",
       "    .dataframe tbody tr th {\n",
       "        vertical-align: top;\n",
       "    }\n",
       "\n",
       "    .dataframe thead th {\n",
       "        text-align: right;\n",
       "    }\n",
       "</style>\n",
       "<table border=\"1\" class=\"dataframe\">\n",
       "  <thead>\n",
       "    <tr style=\"text-align: right;\">\n",
       "      <th></th>\n",
       "      <th>Order ID</th>\n",
       "      <th>Product</th>\n",
       "      <th>Quantity Ordered</th>\n",
       "      <th>Price Each</th>\n",
       "      <th>Order Date</th>\n",
       "      <th>Purchase Address</th>\n",
       "    </tr>\n",
       "  </thead>\n",
       "  <tbody>\n",
       "    <tr>\n",
       "      <th>0</th>\n",
       "      <td>295665</td>\n",
       "      <td>Macbook Pro Laptop</td>\n",
       "      <td>1</td>\n",
       "      <td>1700</td>\n",
       "      <td>12/30/19 00:01</td>\n",
       "      <td>136 Church St, New York City, NY 10001</td>\n",
       "    </tr>\n",
       "    <tr>\n",
       "      <th>1</th>\n",
       "      <td>295666</td>\n",
       "      <td>LG Washing Machine</td>\n",
       "      <td>1</td>\n",
       "      <td>600.0</td>\n",
       "      <td>12/29/19 07:03</td>\n",
       "      <td>562 2nd St, New York City, NY 10001</td>\n",
       "    </tr>\n",
       "    <tr>\n",
       "      <th>2</th>\n",
       "      <td>295667</td>\n",
       "      <td>USB-C Charging Cable</td>\n",
       "      <td>1</td>\n",
       "      <td>11.95</td>\n",
       "      <td>12/12/19 18:21</td>\n",
       "      <td>277 Main St, New York City, NY 10001</td>\n",
       "    </tr>\n",
       "    <tr>\n",
       "      <th>3</th>\n",
       "      <td>295668</td>\n",
       "      <td>27in FHD Monitor</td>\n",
       "      <td>1</td>\n",
       "      <td>149.99</td>\n",
       "      <td>12/22/19 15:13</td>\n",
       "      <td>410 6th St, San Francisco, CA 94016</td>\n",
       "    </tr>\n",
       "    <tr>\n",
       "      <th>4</th>\n",
       "      <td>295669</td>\n",
       "      <td>USB-C Charging Cable</td>\n",
       "      <td>1</td>\n",
       "      <td>11.95</td>\n",
       "      <td>12/18/19 12:38</td>\n",
       "      <td>43 Hill St, Atlanta, GA 30301</td>\n",
       "    </tr>\n",
       "  </tbody>\n",
       "</table>\n",
       "</div>"
      ],
      "text/plain": [
       "  Order ID               Product Quantity Ordered Price Each      Order Date  \\\n",
       "0   295665    Macbook Pro Laptop                1       1700  12/30/19 00:01   \n",
       "1   295666    LG Washing Machine                1      600.0  12/29/19 07:03   \n",
       "2   295667  USB-C Charging Cable                1      11.95  12/12/19 18:21   \n",
       "3   295668      27in FHD Monitor                1     149.99  12/22/19 15:13   \n",
       "4   295669  USB-C Charging Cable                1      11.95  12/18/19 12:38   \n",
       "\n",
       "                         Purchase Address  \n",
       "0  136 Church St, New York City, NY 10001  \n",
       "1     562 2nd St, New York City, NY 10001  \n",
       "2    277 Main St, New York City, NY 10001  \n",
       "3     410 6th St, San Francisco, CA 94016  \n",
       "4           43 Hill St, Atlanta, GA 30301  "
      ]
     },
     "execution_count": 22,
     "metadata": {},
     "output_type": "execute_result"
    }
   ],
   "source": [
    "df.head(5)"
   ]
  },
  {
   "cell_type": "code",
   "execution_count": 24,
   "metadata": {},
   "outputs": [],
   "source": [
    "fault_rows = df.query(\"Product == 'Product'\")\n",
    "\n",
    "df = df.drop(index = fault_rows.index)"
   ]
  },
  {
   "cell_type": "code",
   "execution_count": 25,
   "metadata": {},
   "outputs": [
    {
     "name": "stdout",
     "output_type": "stream",
     "text": [
      "<class 'pandas.core.frame.DataFrame'>\n",
      "Index: 183271 entries, 0 to 13621\n",
      "Data columns (total 6 columns):\n",
      " #   Column            Non-Null Count   Dtype \n",
      "---  ------            --------------   ----- \n",
      " 0   Order ID          182735 non-null  object\n",
      " 1   Product           182735 non-null  object\n",
      " 2   Quantity Ordered  182735 non-null  object\n",
      " 3   Price Each        182735 non-null  object\n",
      " 4   Order Date        182735 non-null  object\n",
      " 5   Purchase Address  182735 non-null  object\n",
      "dtypes: object(6)\n",
      "memory usage: 9.8+ MB\n"
     ]
    }
   ],
   "source": [
    "df.info()"
   ]
  },
  {
   "attachments": {},
   "cell_type": "markdown",
   "metadata": {},
   "source": [
    "## Drop null rows"
   ]
  },
  {
   "cell_type": "code",
   "execution_count": 26,
   "metadata": {},
   "outputs": [
    {
     "data": {
      "text/plain": [
       "Order ID            0\n",
       "Product             0\n",
       "Quantity Ordered    0\n",
       "Price Each          0\n",
       "Order Date          0\n",
       "Purchase Address    0\n",
       "dtype: int64"
      ]
     },
     "execution_count": 26,
     "metadata": {},
     "output_type": "execute_result"
    }
   ],
   "source": [
    "df = df.dropna()\n",
    "\n",
    "df.isnull().sum()"
   ]
  },
  {
   "attachments": {},
   "cell_type": "markdown",
   "metadata": {},
   "source": [
    "### Question 1: what was the best month for sales? How much was earned that month?"
   ]
  },
  {
   "cell_type": "code",
   "execution_count": 27,
   "metadata": {},
   "outputs": [
    {
     "name": "stderr",
     "output_type": "stream",
     "text": [
      "<ipython-input-27-e7bcc8daaa21>:3: UserWarning: Could not infer format, so each element will be parsed individually, falling back to `dateutil`. To ensure parsing is consistent and as-expected, please specify a format.\n",
      "  df['Order Date'] = pd.to_datetime(df['Order Date'])\n"
     ]
    },
    {
     "name": "stdout",
     "output_type": "stream",
     "text": [
      "<class 'pandas.core.frame.DataFrame'>\n",
      "Index: 182735 entries, 0 to 13621\n",
      "Data columns (total 6 columns):\n",
      " #   Column            Non-Null Count   Dtype         \n",
      "---  ------            --------------   -----         \n",
      " 0   Order ID          182735 non-null  object        \n",
      " 1   Product           182735 non-null  object        \n",
      " 2   Quantity Ordered  182735 non-null  int64         \n",
      " 3   Price Each        182735 non-null  float64       \n",
      " 4   Order Date        182735 non-null  datetime64[ns]\n",
      " 5   Purchase Address  182735 non-null  object        \n",
      "dtypes: datetime64[ns](1), float64(1), int64(1), object(3)\n",
      "memory usage: 9.8+ MB\n",
      "None\n"
     ]
    }
   ],
   "source": [
    "# change datatypes\n",
    "\n",
    "df['Order Date'] = pd.to_datetime(df['Order Date'])\n",
    "df['Price Each'] = df['Price Each'].astype('float')\n",
    "df['Quantity Ordered'] = df['Quantity Ordered'].astype('int')\n",
    "#double check\n",
    "print(df.info())"
   ]
  },
  {
   "cell_type": "code",
   "execution_count": 79,
   "metadata": {},
   "outputs": [],
   "source": [
    "df['Order Month'] = pd.DatetimeIndex(df['Order Date']).month\n",
    "df['Sales'] = df['Quantity Ordered'] * df['Price Each']"
   ]
  },
  {
   "cell_type": "code",
   "execution_count": 80,
   "metadata": {},
   "outputs": [],
   "source": [
    "import matplotlib.pyplot as plt\n",
    "\n",
    "plt.style.use('ggplot')"
   ]
  },
  {
   "attachments": {},
   "cell_type": "markdown",
   "metadata": {},
   "source": [
    "#### bar chart of monthly sales v.s. monthly average"
   ]
  },
  {
   "cell_type": "code",
   "execution_count": 81,
   "metadata": {},
   "outputs": [
    {
     "data": {
      "image/png": "[encoded data removed]",
      "text/plain": [
       "<Figure size 432x288 with 1 Axes>"
      ]
     },
     "metadata": {},
     "output_type": "display_data"
    }
   ],
   "source": [
    "month_avg = df.groupby('Order Month')['Sales']\\\n",
    ".agg(['sum'])\\\n",
    ".sort_values('sum', ascending=False)\\\n",
    ".mean()\n",
    "\n",
    "ax = df.groupby('Order Month')['Sales']\\\n",
    ".agg(['sum'])\\\n",
    ".plot(kind='bar', color='blue')\n",
    "\n",
    "ax.axhline(int(month_avg.iloc[0]), color='red', linestyle ='--')\n",
    "ax.set_ylabel('Sales(M)')\n",
    "plt.show()"
   ]
  },
  {
   "attachments": {},
   "cell_type": "markdown",
   "metadata": {},
   "source": [
    "## Question 2 : What city had the highest number of sales"
   ]
  },
  {
   "cell_type": "code",
   "execution_count": 82,
   "metadata": {},
   "outputs": [],
   "source": [
    "#expand address information\n",
    "df[['Street', 'City', 'State']] =  df['Purchase Address'].str.split(',', expand=True)"
   ]
  },
  {
   "cell_type": "code",
   "execution_count": 87,
   "metadata": {},
   "outputs": [
    {
     "data": {
      "text/plain": [
       "<Axes: xlabel='City'>"
      ]
     },
     "execution_count": 87,
     "metadata": {},
     "output_type": "execute_result"
    },
    {
     "data": {
      "image/png": "[encoded data removed]",
      "text/plain": [
       "<Figure size 432x288 with 1 Axes>"
      ]
     },
     "metadata": {},
     "output_type": "display_data"
    }
   ],
   "source": [
    "df.groupby('City')['Sales']\\\n",
    ".agg('sum')\\\n",
    ".sort_values()\\\n",
    ".plot(kind='bar')"
   ]
  },
  {
   "attachments": {},
   "cell_type": "markdown",
   "metadata": {},
   "source": [
    "## Question 3: What time should we display advertisements to maximize likelihood of customer buying the product?\n",
    "\n",
    "* The peak time of customer's purchasing behavior is around 11 and 13 or 18 and 20. Hence puting advertisement arouond this time is likely to boost more sales."
   ]
  },
  {
   "cell_type": "code",
   "execution_count": 90,
   "metadata": {},
   "outputs": [],
   "source": [
    "## find the time of the day where most purchase occurs\n",
    "#pd.DatetimeIndex(df['Order Date']).month\n",
    "df['Order Hour'] = pd.DatetimeIndex(df['Order Date']).hour"
   ]
  },
  {
   "cell_type": "code",
   "execution_count": 92,
   "metadata": {},
   "outputs": [
    {
     "data": {
      "text/plain": [
       "<Axes: xlabel='Order Hour'>"
      ]
     },
     "execution_count": 92,
     "metadata": {},
     "output_type": "execute_result"
    },
    {
     "data": {
      "image/png": "[encoded data removed]",
      "text/plain": [
       "<Figure size 432x288 with 1 Axes>"
      ]
     },
     "metadata": {},
     "output_type": "display_data"
    }
   ],
   "source": [
    "df.groupby('Order Hour')['Sales']\\\n",
    ".agg('sum')\\\n",
    ".plot(kind='bar')"
   ]
  },
  {
   "attachments": {},
   "cell_type": "markdown",
   "metadata": {},
   "source": [
    "#### maybe it's differeent by city?\n",
    "* it's all the same"
   ]
  },
  {
   "cell_type": "code",
   "execution_count": 93,
   "metadata": {},
   "outputs": [],
   "source": [
    "import seaborn as sns"
   ]
  },
  {
   "cell_type": "code",
   "execution_count": 102,
   "metadata": {},
   "outputs": [
    {
     "data": {
      "text/plain": [
       "<Axes: xlabel='Order Hour', ylabel='Sales'>"
      ]
     },
     "execution_count": 102,
     "metadata": {},
     "output_type": "execute_result"
    },
    {
     "data": {
      "image/png": "[encoded data removed]",
      "text/plain": [
       "<Figure size 432x288 with 1 Axes>"
      ]
     },
     "metadata": {},
     "output_type": "display_data"
    }
   ],
   "source": [
    "sns.lineplot(data = df, \n",
    "            x='Order Hour',\n",
    "            y='Sales',\n",
    "            estimator='sum',\n",
    "            hue = 'City'\n",
    "            )"
   ]
  },
  {
   "attachments": {},
   "cell_type": "markdown",
   "metadata": {},
   "source": [
    "### Question 4: What products are most often sold together?"
   ]
  },
  {
   "cell_type": "code",
   "execution_count": 106,
   "metadata": {},
   "outputs": [
    {
     "data": {
      "text/plain": [
       "Order ID\n",
       "160873    5\n",
       "263918    4\n",
       "289117    4\n",
       "277875    4\n",
       "235798    4\n",
       "         ..\n",
       "169524    1\n",
       "169525    1\n",
       "169526    1\n",
       "169527    1\n",
       "222909    1\n",
       "Name: count, Length: 175449, dtype: int64"
      ]
     },
     "execution_count": 106,
     "metadata": {},
     "output_type": "execute_result"
    }
   ],
   "source": [
    "#seems one order id may contian many items\n",
    "df['Order ID'].value_counts()"
   ]
  },
  {
   "cell_type": "code",
   "execution_count": 119,
   "metadata": {},
   "outputs": [
    {
     "data": {
      "text/html": [
       "<div>\n",
       "<style scoped>\n",
       "    .dataframe tbody tr th:only-of-type {\n",
       "        vertical-align: middle;\n",
       "    }\n",
       "\n",
       "    .dataframe tbody tr th {\n",
       "        vertical-align: top;\n",
       "    }\n",
       "\n",
       "    .dataframe thead th {\n",
       "        text-align: right;\n",
       "    }\n",
       "</style>\n",
       "<table border=\"1\" class=\"dataframe\">\n",
       "  <thead>\n",
       "    <tr style=\"text-align: right;\">\n",
       "      <th></th>\n",
       "      <th>Order ID</th>\n",
       "      <th>Product</th>\n",
       "      <th>Quantity Ordered</th>\n",
       "      <th>Price Each</th>\n",
       "      <th>Order Date</th>\n",
       "      <th>Purchase Address</th>\n",
       "      <th>Order Month</th>\n",
       "      <th>Total Price</th>\n",
       "      <th>Street</th>\n",
       "      <th>City</th>\n",
       "      <th>State</th>\n",
       "      <th>Sales</th>\n",
       "      <th>Order Hour</th>\n",
       "      <th>Grouped</th>\n",
       "    </tr>\n",
       "  </thead>\n",
       "  <tbody>\n",
       "    <tr>\n",
       "      <th>10836</th>\n",
       "      <td>160873</td>\n",
       "      <td>iPhone</td>\n",
       "      <td>1</td>\n",
       "      <td>700.00</td>\n",
       "      <td>2019-02-10 10:24:00</td>\n",
       "      <td>702 River St, San Francisco, CA 94016</td>\n",
       "      <td>2</td>\n",
       "      <td>700.00</td>\n",
       "      <td>702 River St</td>\n",
       "      <td>San Francisco</td>\n",
       "      <td>CA 94016</td>\n",
       "      <td>700.00</td>\n",
       "      <td>10</td>\n",
       "      <td>iPhone,Lightning Charging Cable,Apple Airpods ...</td>\n",
       "    </tr>\n",
       "    <tr>\n",
       "      <th>10837</th>\n",
       "      <td>160873</td>\n",
       "      <td>Lightning Charging Cable</td>\n",
       "      <td>1</td>\n",
       "      <td>14.95</td>\n",
       "      <td>2019-02-10 10:24:00</td>\n",
       "      <td>702 River St, San Francisco, CA 94016</td>\n",
       "      <td>2</td>\n",
       "      <td>14.95</td>\n",
       "      <td>702 River St</td>\n",
       "      <td>San Francisco</td>\n",
       "      <td>CA 94016</td>\n",
       "      <td>14.95</td>\n",
       "      <td>10</td>\n",
       "      <td>iPhone,Lightning Charging Cable,Apple Airpods ...</td>\n",
       "    </tr>\n",
       "    <tr>\n",
       "      <th>10838</th>\n",
       "      <td>160873</td>\n",
       "      <td>Apple Airpods Headphones</td>\n",
       "      <td>1</td>\n",
       "      <td>150.00</td>\n",
       "      <td>2019-02-10 10:24:00</td>\n",
       "      <td>702 River St, San Francisco, CA 94016</td>\n",
       "      <td>2</td>\n",
       "      <td>150.00</td>\n",
       "      <td>702 River St</td>\n",
       "      <td>San Francisco</td>\n",
       "      <td>CA 94016</td>\n",
       "      <td>150.00</td>\n",
       "      <td>10</td>\n",
       "      <td>iPhone,Lightning Charging Cable,Apple Airpods ...</td>\n",
       "    </tr>\n",
       "    <tr>\n",
       "      <th>10839</th>\n",
       "      <td>160873</td>\n",
       "      <td>Wired Headphones</td>\n",
       "      <td>1</td>\n",
       "      <td>11.99</td>\n",
       "      <td>2019-02-10 10:24:00</td>\n",
       "      <td>702 River St, San Francisco, CA 94016</td>\n",
       "      <td>2</td>\n",
       "      <td>11.99</td>\n",
       "      <td>702 River St</td>\n",
       "      <td>San Francisco</td>\n",
       "      <td>CA 94016</td>\n",
       "      <td>11.99</td>\n",
       "      <td>10</td>\n",
       "      <td>iPhone,Lightning Charging Cable,Apple Airpods ...</td>\n",
       "    </tr>\n",
       "    <tr>\n",
       "      <th>10840</th>\n",
       "      <td>160873</td>\n",
       "      <td>Google Phone</td>\n",
       "      <td>1</td>\n",
       "      <td>600.00</td>\n",
       "      <td>2019-02-10 10:24:00</td>\n",
       "      <td>702 River St, San Francisco, CA 94016</td>\n",
       "      <td>2</td>\n",
       "      <td>600.00</td>\n",
       "      <td>702 River St</td>\n",
       "      <td>San Francisco</td>\n",
       "      <td>CA 94016</td>\n",
       "      <td>600.00</td>\n",
       "      <td>10</td>\n",
       "      <td>iPhone,Lightning Charging Cable,Apple Airpods ...</td>\n",
       "    </tr>\n",
       "  </tbody>\n",
       "</table>\n",
       "</div>"
      ],
      "text/plain": [
       "      Order ID                   Product  Quantity Ordered  Price Each  \\\n",
       "10836   160873                    iPhone                 1      700.00   \n",
       "10837   160873  Lightning Charging Cable                 1       14.95   \n",
       "10838   160873  Apple Airpods Headphones                 1      150.00   \n",
       "10839   160873          Wired Headphones                 1       11.99   \n",
       "10840   160873              Google Phone                 1      600.00   \n",
       "\n",
       "               Order Date                       Purchase Address  Order Month  \\\n",
       "10836 2019-02-10 10:24:00  702 River St, San Francisco, CA 94016            2   \n",
       "10837 2019-02-10 10:24:00  702 River St, San Francisco, CA 94016            2   \n",
       "10838 2019-02-10 10:24:00  702 River St, San Francisco, CA 94016            2   \n",
       "10839 2019-02-10 10:24:00  702 River St, San Francisco, CA 94016            2   \n",
       "10840 2019-02-10 10:24:00  702 River St, San Francisco, CA 94016            2   \n",
       "\n",
       "       Total Price        Street            City      State   Sales  \\\n",
       "10836       700.00  702 River St   San Francisco   CA 94016  700.00   \n",
       "10837        14.95  702 River St   San Francisco   CA 94016   14.95   \n",
       "10838       150.00  702 River St   San Francisco   CA 94016  150.00   \n",
       "10839        11.99  702 River St   San Francisco   CA 94016   11.99   \n",
       "10840       600.00  702 River St   San Francisco   CA 94016  600.00   \n",
       "\n",
       "       Order Hour                                            Grouped  \n",
       "10836          10  iPhone,Lightning Charging Cable,Apple Airpods ...  \n",
       "10837          10  iPhone,Lightning Charging Cable,Apple Airpods ...  \n",
       "10838          10  iPhone,Lightning Charging Cable,Apple Airpods ...  \n",
       "10839          10  iPhone,Lightning Charging Cable,Apple Airpods ...  \n",
       "10840          10  iPhone,Lightning Charging Cable,Apple Airpods ...  "
      ]
     },
     "execution_count": 119,
     "metadata": {},
     "output_type": "execute_result"
    }
   ],
   "source": [
    "df.loc[df['Order ID'] == '160873']"
   ]
  },
  {
   "attachments": {},
   "cell_type": "markdown",
   "metadata": {},
   "source": [
    "#### Solution 1 : Correlation?"
   ]
  },
  {
   "cell_type": "code",
   "execution_count": 153,
   "metadata": {},
   "outputs": [
    {
     "data": {
      "text/plain": [
       "(182735, 14)"
      ]
     },
     "execution_count": 153,
     "metadata": {},
     "output_type": "execute_result"
    }
   ],
   "source": [
    "df.shape"
   ]
  },
  {
   "cell_type": "code",
   "execution_count": 155,
   "metadata": {},
   "outputs": [],
   "source": [
    "df['Grouped'] = df.groupby('Order ID')['Product'].transform(lambda x: ','.join(x))\n",
    "\n",
    "df_ = df[['Order ID', 'Grouped']].drop_duplicates()"
   ]
  },
  {
   "cell_type": "code",
   "execution_count": 167,
   "metadata": {},
   "outputs": [],
   "source": [
    "from itertools import combinations\n",
    "from collections import Counter\n",
    "\n",
    "count = Counter()\n",
    "\n",
    "for row in df_['Grouped']:\n",
    "    row_list = row.split(',')\n",
    "    count.update(Counter(combinations(row_list,2)))"
   ]
  },
  {
   "cell_type": "code",
   "execution_count": 168,
   "metadata": {},
   "outputs": [
    {
     "data": {
      "text/plain": [
       "[(('iPhone', 'Lightning Charging Cable'), 973),\n",
       " (('Google Phone', 'USB-C Charging Cable'), 954),\n",
       " (('iPhone', 'Wired Headphones'), 437),\n",
       " (('Google Phone', 'Wired Headphones'), 401),\n",
       " (('Vareebadd Phone', 'USB-C Charging Cable'), 348),\n",
       " (('iPhone', 'Apple Airpods Headphones'), 343),\n",
       " (('Google Phone', 'Bose SoundSport Headphones'), 219),\n",
       " (('USB-C Charging Cable', 'Wired Headphones'), 156),\n",
       " (('Vareebadd Phone', 'Wired Headphones'), 141),\n",
       " (('Lightning Charging Cable', 'Wired Headphones'), 92)]"
      ]
     },
     "execution_count": 168,
     "metadata": {},
     "output_type": "execute_result"
    }
   ],
   "source": [
    "count.most_common(10)"
   ]
  }
 ],
 "metadata": {
  "kernelspec": {
   "display_name": "finlab",
   "language": "python",
   "name": "python3"
  },
  "language_info": {
   "codemirror_mode": {
    "name": "ipython",
    "version": 3
   },
   "file_extension": ".py",
   "mimetype": "text/x-python",
   "name": "python",
   "nbconvert_exporter": "python",
   "pygments_lexer": "ipython3",
   "version": "3.9.2"
  },
  "orig_nbformat": 4
 },
 "nbformat": 4,
 "nbformat_minor": 2
}
